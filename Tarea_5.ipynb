{
  "nbformat": 4,
  "nbformat_minor": 0,
  "metadata": {
    "colab": {
      "name": "Tarea 5",
      "provenance": [],
      "collapsed_sections": []
    },
    "kernelspec": {
      "name": "python3",
      "display_name": "Python 3"
    }
  },
  "cells": [
    {
      "cell_type": "markdown",
      "metadata": {
        "id": "QG52TwDhAmk_"
      },
      "source": [
        "Alonso Fuentes Armando "
      ]
    },
    {
      "cell_type": "markdown",
      "metadata": {
        "id": "g9iwxKFwuv0M"
      },
      "source": [
        "####Binary search ###\n",
        "La búsqueda binaria trata sobre como podemos buscar de una lista del arreglo un elemento en el, convencionalmente buscamos de manera lineal es decir haciendo una búsqueda de 1 en 1, descartando cada uno de los elementos hasta encontrar el indicado. Pero en la búsqueda binaria lo que haces es buscar en la mitad de tiempo y obtener un tiempo **O(logn)** .\n",
        "\n",
        "Entonces, la importancia de este radica en las aplicaciones que ocupan esta manera de dividir el trabajo, el tan llamado \"divide y venceras\", una de sus aplicaciones es la compresión de datos o en las cuestiones gráficas como lo es un video, que se debe renderizar."
      ]
    },
    {
      "cell_type": "markdown",
      "metadata": {
        "id": "BkGURHS9zScK"
      },
      "source": [
        "#### Binary search (Recursive) ####"
      ]
    },
    {
      "cell_type": "code",
      "metadata": {
        "id": "4nOHb1G6zaOb"
      },
      "source": [
        "def binary_search(arr, low, high, x): \n",
        "    if high >= low: \n",
        "        mid = (high + low) // 2 \n",
        "        if arr[mid] == x: \n",
        "            return mid \n",
        "        elif arr[mid] > x: \n",
        "            return binary_search(arr, low, mid - 1, x) \n",
        "        else: \n",
        "            return binary_search(arr, mid + 1, high, x) \n",
        "  \n",
        "    else: \n",
        "        return -1"
      ],
      "execution_count": null,
      "outputs": []
    },
    {
      "cell_type": "markdown",
      "metadata": {
        "id": "XA8jyYvt55dg"
      },
      "source": [
        "#### Ejemplos binary_search####"
      ]
    },
    {
      "cell_type": "code",
      "metadata": {
        "colab": {
          "base_uri": "https://localhost:8080/"
        },
        "id": "nafjKWPE1Ap9",
        "outputId": "71c8903b-487b-487d-b382-9acdb18317bc"
      },
      "source": [
        "array=[3,4,15,20,14,15,78]\n",
        "binary_search(array,0,len(array),78)"
      ],
      "execution_count": null,
      "outputs": [
        {
          "output_type": "execute_result",
          "data": {
            "text/plain": [
              "6"
            ]
          },
          "metadata": {
            "tags": []
          },
          "execution_count": 43
        }
      ]
    },
    {
      "cell_type": "code",
      "metadata": {
        "colab": {
          "base_uri": "https://localhost:8080/"
        },
        "id": "RKx_fd7F5Swu",
        "outputId": "34a2464d-f833-4b79-b8f4-c62c4a18b259"
      },
      "source": [
        "array2=[20,25,40,41,16,5,2]\n",
        "binary_search(array2,0,len(array2),16)"
      ],
      "execution_count": null,
      "outputs": [
        {
          "output_type": "execute_result",
          "data": {
            "text/plain": [
              "-1"
            ]
          },
          "metadata": {
            "tags": []
          },
          "execution_count": 47
        }
      ]
    },
    {
      "cell_type": "markdown",
      "metadata": {
        "id": "i5S5RoM9_RPV"
      },
      "source": [
        "#### Binary search iterative ####"
      ]
    },
    {
      "cell_type": "code",
      "metadata": {
        "id": "pfj02TH_-aWC"
      },
      "source": [
        "def binarysearchit(arr, x): \n",
        "    low = 0\n",
        "    high = len(arr) - 1\n",
        "    mid = 0\n",
        "  \n",
        "    while low <= high: \n",
        "        mid = (high + low) // 2\n",
        "        if arr[mid] < x: \n",
        "            low = mid + 1\n",
        "        elif arr[mid] > x: \n",
        "            high = mid - 1\n",
        "        else: \n",
        "            return mid \n",
        "    return -1"
      ],
      "execution_count": null,
      "outputs": []
    },
    {
      "cell_type": "markdown",
      "metadata": {
        "id": "Qly9E_GL_jKF"
      },
      "source": [
        "#### Ejemplos binary search iterative ####"
      ]
    },
    {
      "cell_type": "code",
      "metadata": {
        "colab": {
          "base_uri": "https://localhost:8080/"
        },
        "id": "3dJqsokT_tqr",
        "outputId": "ab07d819-3eec-41da-a6b3-e2e674e37d9b"
      },
      "source": [
        "array=[3,4,15,20,14,15,78]\n",
        "binarysearchit(array,78)"
      ],
      "execution_count": null,
      "outputs": [
        {
          "output_type": "execute_result",
          "data": {
            "text/plain": [
              "6"
            ]
          },
          "metadata": {
            "tags": []
          },
          "execution_count": 49
        }
      ]
    },
    {
      "cell_type": "code",
      "metadata": {
        "colab": {
          "base_uri": "https://localhost:8080/"
        },
        "id": "42BGCGPz_7mF",
        "outputId": "b0c81290-a944-467e-e5ba-948af900a4a9"
      },
      "source": [
        "array2=[20,25,40,41,16,5,2]\n",
        "binarysearchit(array2,16)"
      ],
      "execution_count": null,
      "outputs": [
        {
          "output_type": "execute_result",
          "data": {
            "text/plain": [
              "-1"
            ]
          },
          "metadata": {
            "tags": []
          },
          "execution_count": 50
        }
      ]
    }
  ]
}